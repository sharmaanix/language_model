{
  "nbformat": 4,
  "nbformat_minor": 0,
  "metadata": {
    "colab": {
      "name": "Poem_generation.ipynb",
      "provenance": [],
      "collapsed_sections": []
    },
    "kernelspec": {
      "name": "python3",
      "display_name": "Python 3"
    }
  },
  "cells": [
    {
      "cell_type": "markdown",
      "metadata": {
        "id": "b65YYNIM-lNq",
        "colab_type": "text"
      },
      "source": [
        "# Import libraries and Module"
      ]
    },
    {
      "cell_type": "code",
      "metadata": {
        "id": "nMuC2FDZ-ytC",
        "colab_type": "code",
        "colab": {}
      },
      "source": [
        "import re\n",
        "import torch\n",
        "import warnings\n",
        "import numpy as np\n",
        "from torch import nn\n",
        "import torch.nn.functional as F\n",
        "from sklearn.preprocessing import OneHotEncoder\n",
        "from torch.utils.data import DataLoader"
      ],
      "execution_count": 0,
      "outputs": []
    },
    {
      "cell_type": "code",
      "metadata": {
        "id": "XgnzNv_p-8uw",
        "colab_type": "code",
        "colab": {}
      },
      "source": [
        "warnings.filterwarnings('ignore')"
      ],
      "execution_count": 0,
      "outputs": []
    },
    {
      "cell_type": "markdown",
      "metadata": {
        "id": "d4KkmEdY-1qT",
        "colab_type": "text"
      },
      "source": [
        "# Importing Dataset"
      ]
    },
    {
      "cell_type": "code",
      "metadata": {
        "id": "2CyWmYYw-6a1",
        "colab_type": "code",
        "colab": {
          "base_uri": "https://localhost:8080/",
          "height": 122
        },
        "outputId": "11aba13b-a0ad-498a-915f-48fee7a6811e"
      },
      "source": [
        "from google.colab import drive\n",
        "drive.mount('/content/drive')"
      ],
      "execution_count": 3,
      "outputs": [
        {
          "output_type": "stream",
          "text": [
            "Go to this URL in a browser: https://accounts.google.com/o/oauth2/auth?client_id=947318989803-6bn6qk8qdgf4n4g3pfee6491hc0brc4i.apps.googleusercontent.com&redirect_uri=urn%3Aietf%3Awg%3Aoauth%3A2.0%3Aoob&scope=email%20https%3A%2F%2Fwww.googleapis.com%2Fauth%2Fdocs.test%20https%3A%2F%2Fwww.googleapis.com%2Fauth%2Fdrive%20https%3A%2F%2Fwww.googleapis.com%2Fauth%2Fdrive.photos.readonly%20https%3A%2F%2Fwww.googleapis.com%2Fauth%2Fpeopleapi.readonly&response_type=code\n",
            "\n",
            "Enter your authorization code:\n",
            "··········\n",
            "Mounted at /content/drive\n"
          ],
          "name": "stdout"
        }
      ]
    },
    {
      "cell_type": "code",
      "metadata": {
        "id": "YDH4HnJe_J0N",
        "colab_type": "code",
        "colab": {
          "base_uri": "https://localhost:8080/",
          "height": 51
        },
        "outputId": "3dbbac81-ad33-4199-8391-8da32a6fab89"
      },
      "source": [
        "cd drive/My\\ Drive/dataset"
      ],
      "execution_count": 5,
      "outputs": [
        {
          "output_type": "stream",
          "text": [
            "[Errno 2] No such file or directory: 'drive/My Drive/dataset'\n",
            "/content/drive/My Drive/dataset\n"
          ],
          "name": "stdout"
        }
      ]
    },
    {
      "cell_type": "code",
      "metadata": {
        "id": "dkNYow87_Kbf",
        "colab_type": "code",
        "colab": {
          "base_uri": "https://localhost:8080/",
          "height": 51
        },
        "outputId": "ca3f85b7-7dce-453a-b022-f7fcdfe45dd2"
      },
      "source": [
        "!ls"
      ],
      "execution_count": 6,
      "outputs": [
        {
          "output_type": "stream",
          "text": [
            "cifar-10-python  processed_tag\t  test.pickle\n",
            "output.csv\t shakespeare.txt  train.pickle\n"
          ],
          "name": "stdout"
        }
      ]
    },
    {
      "cell_type": "code",
      "metadata": {
        "id": "mO3ALlNr_MVX",
        "colab_type": "code",
        "colab": {}
      },
      "source": [
        "with open('shakespeare.txt', 'r') as f:\n",
        "    text = f.read()"
      ],
      "execution_count": 0,
      "outputs": []
    },
    {
      "cell_type": "code",
      "metadata": {
        "id": "im60opKa_RI_",
        "colab_type": "code",
        "colab": {
          "base_uri": "https://localhost:8080/",
          "height": 459
        },
        "outputId": "c5c672f9-53e7-4b1d-d24f-7a4766268428"
      },
      "source": [
        "print(text[:1000])"
      ],
      "execution_count": 8,
      "outputs": [
        {
          "output_type": "stream",
          "text": [
            "\n",
            "                     1\n",
            "  From fairest creatures we desire increase,\n",
            "  That thereby beauty's rose might never die,\n",
            "  But as the riper should by time decease,\n",
            "  His tender heir might bear his memory:\n",
            "  But thou contracted to thine own bright eyes,\n",
            "  Feed'st thy light's flame with self-substantial fuel,\n",
            "  Making a famine where abundance lies,\n",
            "  Thy self thy foe, to thy sweet self too cruel:\n",
            "  Thou that art now the world's fresh ornament,\n",
            "  And only herald to the gaudy spring,\n",
            "  Within thine own bud buriest thy content,\n",
            "  And tender churl mak'st waste in niggarding:\n",
            "    Pity the world, or else this glutton be,\n",
            "    To eat the world's due, by the grave and thee.\n",
            "\n",
            "\n",
            "                     2\n",
            "  When forty winters shall besiege thy brow,\n",
            "  And dig deep trenches in thy beauty's field,\n",
            "  Thy youth's proud livery so gazed on now,\n",
            "  Will be a tattered weed of small worth held:  \n",
            "  Then being asked, where all thy beauty lies,\n",
            "  Where all the treasure of thy lusty days;\n",
            "  To say within thine own deep su\n"
          ],
          "name": "stdout"
        }
      ]
    },
    {
      "cell_type": "code",
      "metadata": {
        "id": "NIOz5cxTN_b8",
        "colab_type": "code",
        "colab": {}
      },
      "source": [
        "def preprocessing_text(raw_text):\n",
        "  \n",
        "  # remove numerals\n",
        "  temp_text = re.sub(r'[0-9]+','', raw_text)\n",
        "  \n",
        "  # convert to lower_case\n",
        "  temp_text = \"\".join(list(map(lambda x : x.lower(), temp_text)))\n",
        "  \n",
        "  # remove new lines\n",
        "#   temp_text = re.sub(\"[\\n]+\",\" \", temp_text)\n",
        "  \n",
        "  # remove multiple spaces\n",
        "  return re.sub(' +', ' ', temp_text)[2:]"
      ],
      "execution_count": 0,
      "outputs": []
    },
    {
      "cell_type": "code",
      "metadata": {
        "id": "ob8FSqPL_Vss",
        "colab_type": "code",
        "colab": {}
      },
      "source": [
        "text = preprocessing_text(text)"
      ],
      "execution_count": 0,
      "outputs": []
    },
    {
      "cell_type": "code",
      "metadata": {
        "id": "KpBLW_R6Qm3L",
        "colab_type": "code",
        "colab": {
          "base_uri": "https://localhost:8080/",
          "height": 476
        },
        "outputId": "8b161b60-f20c-46e7-8967-93c723d10b18"
      },
      "source": [
        "print(text[:1000])"
      ],
      "execution_count": 11,
      "outputs": [
        {
          "output_type": "stream",
          "text": [
            "\n",
            " from fairest creatures we desire increase,\n",
            " that thereby beauty's rose might never die,\n",
            " but as the riper should by time decease,\n",
            " his tender heir might bear his memory:\n",
            " but thou contracted to thine own bright eyes,\n",
            " feed'st thy light's flame with self-substantial fuel,\n",
            " making a famine where abundance lies,\n",
            " thy self thy foe, to thy sweet self too cruel:\n",
            " thou that art now the world's fresh ornament,\n",
            " and only herald to the gaudy spring,\n",
            " within thine own bud buriest thy content,\n",
            " and tender churl mak'st waste in niggarding:\n",
            " pity the world, or else this glutton be,\n",
            " to eat the world's due, by the grave and thee.\n",
            "\n",
            "\n",
            " \n",
            " when forty winters shall besiege thy brow,\n",
            " and dig deep trenches in thy beauty's field,\n",
            " thy youth's proud livery so gazed on now,\n",
            " will be a tattered weed of small worth held: \n",
            " then being asked, where all thy beauty lies,\n",
            " where all the treasure of thy lusty days;\n",
            " to say within thine own deep sunken eyes,\n",
            " were an all-eating shame, and thriftless praise.\n",
            " how much\n"
          ],
          "name": "stdout"
        }
      ]
    },
    {
      "cell_type": "markdown",
      "metadata": {
        "id": "U9RJlW1WSMZX",
        "colab_type": "text"
      },
      "source": [
        "# Vectorization and one hot encoding of text and character"
      ]
    },
    {
      "cell_type": "code",
      "metadata": {
        "id": "kVA_ZDTPST0C",
        "colab_type": "code",
        "colab": {}
      },
      "source": [
        "char_dict = set(text)"
      ],
      "execution_count": 0,
      "outputs": []
    },
    {
      "cell_type": "code",
      "metadata": {
        "id": "r2GQxFw4mKJy",
        "colab_type": "code",
        "colab": {
          "base_uri": "https://localhost:8080/",
          "height": 34
        },
        "outputId": "ac46fb80-e222-4e4b-d6c8-e178adfeadf0"
      },
      "source": [
        "len(char_dict)"
      ],
      "execution_count": 13,
      "outputs": [
        {
          "output_type": "execute_result",
          "data": {
            "text/plain": [
              "48"
            ]
          },
          "metadata": {
            "tags": []
          },
          "execution_count": 13
        }
      ]
    },
    {
      "cell_type": "code",
      "metadata": {
        "id": "ONflk0hTUM72",
        "colab_type": "code",
        "colab": {}
      },
      "source": [
        "int2char = dict(enumerate(char_dict))"
      ],
      "execution_count": 0,
      "outputs": []
    },
    {
      "cell_type": "code",
      "metadata": {
        "id": "TEw5LR-TUn3Y",
        "colab_type": "code",
        "colab": {}
      },
      "source": [
        "char2int = {ch:idx for idx,ch in int2char.items()}"
      ],
      "execution_count": 0,
      "outputs": []
    },
    {
      "cell_type": "code",
      "metadata": {
        "id": "GH-j651Idi3P",
        "colab_type": "code",
        "colab": {}
      },
      "source": [
        "seq_length = 50"
      ],
      "execution_count": 0,
      "outputs": []
    },
    {
      "cell_type": "code",
      "metadata": {
        "id": "v4aSmntfeSsw",
        "colab_type": "code",
        "colab": {}
      },
      "source": [
        "input_seq = []\n",
        "target_seq = []\n",
        "for idx in range(0,len(text)-1):\n",
        "  input_seq.append(text[idx:idx+seq_length])\n",
        "  target_seq.append(text[idx+1:idx+seq_length+1])"
      ],
      "execution_count": 0,
      "outputs": []
    },
    {
      "cell_type": "code",
      "metadata": {
        "id": "lyYbDUx6kDvg",
        "colab_type": "code",
        "colab": {
          "base_uri": "https://localhost:8080/",
          "height": 187
        },
        "outputId": "b1c4cae4-8e6d-4ffc-d0d8-ae8a9e4d8594"
      },
      "source": [
        "input_seq[:10]"
      ],
      "execution_count": 18,
      "outputs": [
        {
          "output_type": "execute_result",
          "data": {
            "text/plain": [
              "['\\n from fairest creatures we desire increase,\\n that',\n",
              " ' from fairest creatures we desire increase,\\n that ',\n",
              " 'from fairest creatures we desire increase,\\n that t',\n",
              " 'rom fairest creatures we desire increase,\\n that th',\n",
              " 'om fairest creatures we desire increase,\\n that the',\n",
              " 'm fairest creatures we desire increase,\\n that ther',\n",
              " ' fairest creatures we desire increase,\\n that there',\n",
              " 'fairest creatures we desire increase,\\n that thereb',\n",
              " 'airest creatures we desire increase,\\n that thereby',\n",
              " 'irest creatures we desire increase,\\n that thereby ']"
            ]
          },
          "metadata": {
            "tags": []
          },
          "execution_count": 18
        }
      ]
    },
    {
      "cell_type": "code",
      "metadata": {
        "id": "-1UPS229kXAv",
        "colab_type": "code",
        "colab": {
          "base_uri": "https://localhost:8080/",
          "height": 187
        },
        "outputId": "fa4f260f-5adb-4d2b-df5a-728163af8d43"
      },
      "source": [
        "target_seq[:10]"
      ],
      "execution_count": 19,
      "outputs": [
        {
          "output_type": "execute_result",
          "data": {
            "text/plain": [
              "[' from fairest creatures we desire increase,\\n that ',\n",
              " 'from fairest creatures we desire increase,\\n that t',\n",
              " 'rom fairest creatures we desire increase,\\n that th',\n",
              " 'om fairest creatures we desire increase,\\n that the',\n",
              " 'm fairest creatures we desire increase,\\n that ther',\n",
              " ' fairest creatures we desire increase,\\n that there',\n",
              " 'fairest creatures we desire increase,\\n that thereb',\n",
              " 'airest creatures we desire increase,\\n that thereby',\n",
              " 'irest creatures we desire increase,\\n that thereby ',\n",
              " 'rest creatures we desire increase,\\n that thereby b']"
            ]
          },
          "metadata": {
            "tags": []
          },
          "execution_count": 19
        }
      ]
    },
    {
      "cell_type": "code",
      "metadata": {
        "id": "_l5BVYCNkcoE",
        "colab_type": "code",
        "colab": {}
      },
      "source": [
        "for idx in range(len(text)-1):\n",
        "  input_seq[idx] = [char2int[character] for character in input_seq[idx]]\n",
        "  target_seq[idx] = [char2int[character] for character in target_seq[idx]]"
      ],
      "execution_count": 0,
      "outputs": []
    },
    {
      "cell_type": "code",
      "metadata": {
        "id": "5UfC9H7NB1XL",
        "colab_type": "code",
        "colab": {}
      },
      "source": [
        "input_seq = input_seq[:pow(10,6)]"
      ],
      "execution_count": 0,
      "outputs": []
    },
    {
      "cell_type": "code",
      "metadata": {
        "id": "MIDFXOIzCgW6",
        "colab_type": "code",
        "colab": {}
      },
      "source": [
        "target_seq = target_seq[:pow(10,6)]"
      ],
      "execution_count": 0,
      "outputs": []
    },
    {
      "cell_type": "code",
      "metadata": {
        "id": "wIbwibWrCmiQ",
        "colab_type": "code",
        "colab": {}
      },
      "source": [
        "total_length = len(input_seq)\n",
        "dict_size = len(char_dict)"
      ],
      "execution_count": 0,
      "outputs": []
    }
  ]
}